{
 "cells": [
  {
   "cell_type": "code",
   "execution_count": 3,
   "id": "8fe28fe3-b109-42f9-84f9-5d1d80cbe848",
   "metadata": {},
   "outputs": [],
   "source": [
    "import torch\n",
    "from torch import nn\n",
    "from torch.nn import functional\n",
    "import pandas as pd"
   ]
  },
  {
   "cell_type": "code",
   "execution_count": 4,
   "id": "33125ceb-6867-4398-a344-6ef004851364",
   "metadata": {},
   "outputs": [],
   "source": [
    "data = pd.read_csv(\"Shakespeare_data.csv\")"
   ]
  },
  {
   "cell_type": "code",
   "execution_count": 5,
   "id": "984f7d82-8981-4534-af1e-60ef7d1a2b1d",
   "metadata": {},
   "outputs": [
    {
     "data": {
      "text/html": [
       "<div>\n",
       "<style scoped>\n",
       "    .dataframe tbody tr th:only-of-type {\n",
       "        vertical-align: middle;\n",
       "    }\n",
       "\n",
       "    .dataframe tbody tr th {\n",
       "        vertical-align: top;\n",
       "    }\n",
       "\n",
       "    .dataframe thead th {\n",
       "        text-align: right;\n",
       "    }\n",
       "</style>\n",
       "<table border=\"1\" class=\"dataframe\">\n",
       "  <thead>\n",
       "    <tr style=\"text-align: right;\">\n",
       "      <th></th>\n",
       "      <th>Dataline</th>\n",
       "      <th>Play</th>\n",
       "      <th>PlayerLinenumber</th>\n",
       "      <th>ActSceneLine</th>\n",
       "      <th>Player</th>\n",
       "      <th>PlayerLine</th>\n",
       "    </tr>\n",
       "  </thead>\n",
       "  <tbody>\n",
       "    <tr>\n",
       "      <th>0</th>\n",
       "      <td>1</td>\n",
       "      <td>Henry IV</td>\n",
       "      <td>NaN</td>\n",
       "      <td>NaN</td>\n",
       "      <td>NaN</td>\n",
       "      <td>ACT I</td>\n",
       "    </tr>\n",
       "    <tr>\n",
       "      <th>1</th>\n",
       "      <td>2</td>\n",
       "      <td>Henry IV</td>\n",
       "      <td>NaN</td>\n",
       "      <td>NaN</td>\n",
       "      <td>NaN</td>\n",
       "      <td>SCENE I. London. The palace.</td>\n",
       "    </tr>\n",
       "    <tr>\n",
       "      <th>2</th>\n",
       "      <td>3</td>\n",
       "      <td>Henry IV</td>\n",
       "      <td>NaN</td>\n",
       "      <td>NaN</td>\n",
       "      <td>NaN</td>\n",
       "      <td>Enter KING HENRY, LORD JOHN OF LANCASTER, the ...</td>\n",
       "    </tr>\n",
       "    <tr>\n",
       "      <th>3</th>\n",
       "      <td>4</td>\n",
       "      <td>Henry IV</td>\n",
       "      <td>1.0</td>\n",
       "      <td>1.1.1</td>\n",
       "      <td>KING HENRY IV</td>\n",
       "      <td>So shaken as we are, so wan with care,</td>\n",
       "    </tr>\n",
       "    <tr>\n",
       "      <th>4</th>\n",
       "      <td>5</td>\n",
       "      <td>Henry IV</td>\n",
       "      <td>1.0</td>\n",
       "      <td>1.1.2</td>\n",
       "      <td>KING HENRY IV</td>\n",
       "      <td>Find we a time for frighted peace to pant,</td>\n",
       "    </tr>\n",
       "  </tbody>\n",
       "</table>\n",
       "</div>"
      ],
      "text/plain": [
       "   Dataline      Play  PlayerLinenumber ActSceneLine         Player  \\\n",
       "0         1  Henry IV               NaN          NaN            NaN   \n",
       "1         2  Henry IV               NaN          NaN            NaN   \n",
       "2         3  Henry IV               NaN          NaN            NaN   \n",
       "3         4  Henry IV               1.0        1.1.1  KING HENRY IV   \n",
       "4         5  Henry IV               1.0        1.1.2  KING HENRY IV   \n",
       "\n",
       "                                          PlayerLine  \n",
       "0                                              ACT I  \n",
       "1                       SCENE I. London. The palace.  \n",
       "2  Enter KING HENRY, LORD JOHN OF LANCASTER, the ...  \n",
       "3             So shaken as we are, so wan with care,  \n",
       "4         Find we a time for frighted peace to pant,  "
      ]
     },
     "execution_count": 5,
     "metadata": {},
     "output_type": "execute_result"
    }
   ],
   "source": [
    "data.head()"
   ]
  },
  {
   "cell_type": "code",
   "execution_count": 6,
   "id": "398b5c71-02a2-4fcd-8770-945db0ba9a24",
   "metadata": {},
   "outputs": [
    {
     "data": {
      "text/plain": [
       "array(['Henry IV', 'Henry VI Part 1', 'Henry VI Part 2',\n",
       "       'Henry VI Part 3', 'Alls well that ends well', 'As you like it',\n",
       "       'Antony and Cleopatra', 'A Comedy of Errors', 'Coriolanus',\n",
       "       'Cymbeline', 'Hamlet', 'Henry V', 'Henry VIII', 'King John',\n",
       "       'Julius Caesar', 'King Lear', 'Loves Labours Lost', 'macbeth',\n",
       "       'Measure for measure', 'Merchant of Venice',\n",
       "       'Merry Wives of Windsor', 'A Midsummer nights dream',\n",
       "       'Much Ado about nothing', 'Othello', 'Pericles', 'Richard II',\n",
       "       'Richard III', 'Romeo and Juliet', 'Taming of the Shrew',\n",
       "       'The Tempest', 'Timon of Athens', 'Titus Andronicus',\n",
       "       'Troilus and Cressida', 'Twelfth Night', 'Two Gentlemen of Verona',\n",
       "       'A Winters Tale'], dtype=object)"
      ]
     },
     "execution_count": 6,
     "metadata": {},
     "output_type": "execute_result"
    }
   ],
   "source": [
    "data.Play.unique()"
   ]
  },
  {
   "cell_type": "code",
   "execution_count": 25,
   "id": "d020b47d-37d3-4ac4-ab1a-106a09bdd347",
   "metadata": {},
   "outputs": [],
   "source": [
    "paly_data = data.groupby(\"Play\")"
   ]
  },
  {
   "cell_type": "code",
   "execution_count": 41,
   "id": "5d1f1c38-a575-46fa-afdf-a55fe6aac67a",
   "metadata": {},
   "outputs": [],
   "source": [
    "data[\"player_with_line\"] = (data[\"Player\"].fillna(\"\") + \":\\n\" + data[\"PlayerLine\"]).str.strip(\":\\n \")"
   ]
  },
  {
   "cell_type": "code",
   "execution_count": 48,
   "id": "98f0b729-c7fe-475d-bc20-9a10d1d87116",
   "metadata": {},
   "outputs": [],
   "source": [
    "play_script = data.groupby(\"Play\").agg({\"player_with_line\": lambda x: \"\\n\".join(x)}).reset_index()"
   ]
  },
  {
   "cell_type": "code",
   "execution_count": 56,
   "id": "0af2a74f-46dd-4c11-8582-435a374582ce",
   "metadata": {},
   "outputs": [],
   "source": [
    "!mkdir scripts"
   ]
  },
  {
   "cell_type": "code",
   "execution_count": 64,
   "id": "2c68b3cb-0c41-45ab-978b-5b3e4a15c6f2",
   "metadata": {},
   "outputs": [],
   "source": [
    "for d in play_script.to_dict(orient=\"records\"):\n",
    "    with open(\"scripts/{}.txt\".format(d.get(\"Play\")), \"w\") as f:\n",
    "        f.write(d.get(\"player_with_line\"))"
   ]
  },
  {
   "cell_type": "code",
   "execution_count": null,
   "id": "d20f3fc8-048b-477d-86be-33f282913b5b",
   "metadata": {},
   "outputs": [],
   "source": [
    "("
   ]
  }
 ],
 "metadata": {
  "kernelspec": {
   "display_name": "Python 3 (ipykernel)",
   "language": "python",
   "name": "python3"
  },
  "language_info": {
   "codemirror_mode": {
    "name": "ipython",
    "version": 3
   },
   "file_extension": ".py",
   "mimetype": "text/x-python",
   "name": "python",
   "nbconvert_exporter": "python",
   "pygments_lexer": "ipython3",
   "version": "3.10.0"
  }
 },
 "nbformat": 4,
 "nbformat_minor": 5
}
